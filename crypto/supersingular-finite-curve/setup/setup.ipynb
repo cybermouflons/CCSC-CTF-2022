{
 "cells": [
  {
   "cell_type": "code",
   "execution_count": null,
   "metadata": {},
   "outputs": [],
   "source": []
  },
  {
   "cell_type": "code",
   "execution_count": 17,
   "metadata": {},
   "outputs": [
    {
     "name": "stdout",
     "output_type": "stream",
     "text": [
      "2 * 3 * 7 * 11 * 17 * 67 * 89 * 257 * 3011 * 22961 * 1021730890567921\n",
      "Secret key: 623294512930608635219411580333806\n",
      "(575757913339371006661951906238476 : 811726331804692211570061583143873 : 1)\n"
     ]
    }
   ],
   "source": [
    "from Crypto.Util.number import getPrime\n",
    "\n",
    "while True:\n",
    "    p = getPrime(110)\n",
    "    if p % 3 == 2:\n",
    "        break\n",
    "\n",
    "a = 0\n",
    "b = 1\n",
    "F = GF(p)\n",
    "E = EllipticCurve(F,[a,b])\n",
    "assert E.j_invariant() == 0\n",
    "order = E.order()\n",
    "print(factor(order)) # This is to check if order has many small prime factors which can make the curve vulnerable to a another attack\n",
    "\n",
    "\n",
    "# Embedding degree\n",
    "k=2\n",
    "assert (p^k - 1) % order == 0\n",
    "        \n",
    "\n",
    "P = E.gens()[0]\n",
    "Po = P.order()\n",
    "d = randint(2, p-1)\n",
    "print(f\"Secret key: {d}\")\n",
    "Q = d*P\n",
    "print(Q)"
   ]
  },
  {
   "cell_type": "code",
   "execution_count": null,
   "metadata": {},
   "outputs": [],
   "source": [
    "### SOLUTION - MOV Attack\n",
    "# Ensure it can be solve in reasonable amount of time.\n",
    "F2.<x> = GF(p^k)\n",
    "E2 = E.change_ring(F2)\n",
    "P2 = E2(P)\n",
    "Q2 = E2(Q)\n",
    "\n",
    "# Find a random point with the right behaviour\n",
    "# Not all points work, so we loop until it does\n",
    "while True:\n",
    "    R = E2.random_point()\n",
    "    Ro = R.order()\n",
    "    g = gcd(Ro, Po)\n",
    "    S = (Ro//g)*R\n",
    "    So = S.order()\n",
    "    if Po/So in ZZ and Po == So:\n",
    "        break\n",
    "\n",
    "# Generate pairings\n",
    "alpha = P2.weil_pairing(S,Po)\n",
    "beta = Q2.weil_pairing(S,Po)\n",
    "\n",
    "# Solve dlog in GF(p^k) instead of E / GF(p)\n",
    "print(\"Solving dlog....\")\n",
    "dd = beta.log(alpha)\n",
    "print(dd)"
   ]
  },
  {
   "cell_type": "code",
   "execution_count": null,
   "metadata": {},
   "outputs": [],
   "source": [
    "### OPTIONAL: Ensure that it can solve solved normaly \n",
    "solved_d = P.discrete_log(Q)\n",
    "assert solved_d == d"
   ]
  },
  {
   "cell_type": "code",
   "execution_count": 11,
   "metadata": {},
   "outputs": [
    {
     "name": "stdout",
     "output_type": "stream",
     "text": [
      "{'iv': '0461c54e586038d67341b0c3d76aa390', 'encrypted_flag': '0faa07310640728d72082b7c56cd24db8a423da82c611a6a087dfb1a96fc25255e85d04a64d041aa5f2200398c41ad26'}\n"
     ]
    }
   ],
   "source": [
    "from Crypto.Cipher import AES\n",
    "from Crypto.Util.Padding import pad, unpad\n",
    "import hashlib\n",
    "\n",
    "FLAG = open(\"flag.txt\",\"rb\").read()\n",
    "\n",
    "def encrypt_flag(flag, d):    \n",
    "    sha1 = hashlib.sha1()\n",
    "    sha1.update(str(d).encode('ascii'))\n",
    "    key = sha1.digest()[:16]\n",
    "    \n",
    "    # Encrypt flag\n",
    "    iv = os.urandom(16)\n",
    "    cipher = AES.new(key, AES.MODE_CBC, iv)\n",
    "    ciphertext = cipher.encrypt(pad(FLAG, 16))\n",
    "    # Prepare encryption to send\n",
    "    data = {}\n",
    "    data['iv'] = iv.hex()\n",
    "    data['encrypted_flag'] = ciphertext.hex()\n",
    "    return data\n",
    "\n",
    "enc = encrypt_flag(FLAG, d)\n",
    "print(enc)"
   ]
  },
  {
   "cell_type": "code",
   "execution_count": 15,
   "metadata": {},
   "outputs": [
    {
     "name": "stdout",
     "output_type": "stream",
     "text": [
      "b'CCSC{3v1l_M0rTy_m1sS3d_th3_eMb3d1ng_d3gree!!}'\n"
     ]
    }
   ],
   "source": [
    "def decrypt_flag(enc_flag, d, iv): \n",
    "    \n",
    "    sha1 = hashlib.sha1()\n",
    "    sha1.update(str(d).encode('ascii'))\n",
    "    key = sha1.digest()[:16]\n",
    "\n",
    "    iv = bytes.fromhex(iv)\n",
    "    cipher = AES.new(key, AES.MODE_CBC, iv)\n",
    "    return unpad(cipher.decrypt(bytes.fromhex(enc_flag)), 16)\n",
    "    \n",
    "print(decrypt_flag(enc[\"encrypted_flag\"], d, enc[\"iv\"]))"
   ]
  },
  {
   "cell_type": "code",
   "execution_count": 19,
   "metadata": {},
   "outputs": [
    {
     "name": "stdout",
     "output_type": "stream",
     "text": [
      "E: Elliptic Curve defined by y^2 = x^3 + 1  (mod 1050234795013139803147819743853193)\n",
      "\n",
      "Let points on E be:\n",
      "P = (846356572386101725769820855272178 : 163823928752525630055691797248328 : 1)\n",
      "Q = (23347653264701478231160395818174 : 1028233739711058925412274949097814 : 1)\n",
      "\n",
      "such that:\n",
      "Q = d*P\n",
      "\n",
      "iv = 0461c54e586038d67341b0c3d76aa390\n",
      "key = sha1(d)\n",
      "cipher = AES_CBC(key, iv)\n",
      "enc_flag = cipher.encrypt(flag) = 0faa07310640728d72082b7c56cd24db8a423da82c611a6a087dfb1a96fc25255e85d04a64d041aa5f2200398c41ad26\n",
      "\n"
     ]
    }
   ],
   "source": [
    "template = \"\"\"E: Elliptic Curve defined by y^2 = x^3 + 1  (mod {0})\n",
    "\n",
    "Let points on E be:\n",
    "P = {1}\n",
    "Q = {2}\n",
    "\n",
    "such that:\n",
    "Q = d*P\n",
    "\n",
    "iv = {3}\n",
    "key = sha1(d)\n",
    "cipher = AES_CBC(key, iv)\n",
    "enc_flag = cipher.encrypt(flag) = {4}\n",
    "\"\"\"\n",
    "\n",
    "description = template.format(p, P, Q, enc[\"iv\"], enc[\"encrypted_flag\"])\n",
    "\n",
    "with open(\"../public/\")"
   ]
  },
  {
   "cell_type": "code",
   "execution_count": null,
   "metadata": {},
   "outputs": [],
   "source": []
  },
  {
   "cell_type": "code",
   "execution_count": null,
   "metadata": {},
   "outputs": [],
   "source": []
  }
 ],
 "metadata": {
  "kernelspec": {
   "display_name": "SageMath 9.0",
   "language": "sage",
   "name": "sagemath"
  },
  "language_info": {
   "codemirror_mode": {
    "name": "ipython",
    "version": 3
   },
   "file_extension": ".py",
   "mimetype": "text/x-python",
   "name": "python",
   "nbconvert_exporter": "python",
   "pygments_lexer": "ipython3",
   "version": "3.7.3"
  }
 },
 "nbformat": 4,
 "nbformat_minor": 2
}
